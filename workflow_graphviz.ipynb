{
 "cells": [
  {
   "cell_type": "code",
   "execution_count": 1,
   "metadata": {},
   "outputs": [],
   "source": [
    "from graphviz import Digraph, Graph"
   ]
  },
  {
   "cell_type": "code",
   "execution_count": 2,
   "metadata": {},
   "outputs": [],
   "source": [
    "dot = Digraph(\"Workflow\")"
   ]
  },
  {
   "cell_type": "code",
   "execution_count": 17,
   "metadata": {},
   "outputs": [],
   "source": [
    "dot.node(\"start\", \"Web of Science Search\", shape=\"box\", style=\"rounded\")\n",
    "dot.node(\"query1\", \"'climate change adaptation'\", shape=\"box\", style=\"rounded\")\n",
    "dot.node(\"result1\", \"Results (n=5,038)\", shape=\"box\", style=\"rounded\")\n",
    "dot.node(\"filter1\", \"Filtering:\\n'citizen engagement' OR\\n'public participation' OR\\n'public engagement'\", shape=\"box\", style=\"rounded\")\n",
    "dot.node(\"result2\", \"Filtered abstracts (n=484)\", shape=\"box\", style=\"rounded\")\n",
    "\n",
    "dot.node(\"analysis1\", \"Pandas import of abstracts\", shape=\"box\", style=\"rounded\")\n",
    "dot.node(\"analysis2\", \"Cleaning, stemming, lemmatization\", shape=\"box\", style=\"rounded\")\n",
    "dot.node(\"corpus\", \"Corpus\", shape=\"box\", style=\"rounded\")\n",
    "\n",
    "dot.node(\"analysis3\", \"Production of keywords, digrams, trigrams\", shape=\"box\", style=\"rounded\")\n",
    "dot.node(\"analysis4\", \"tf-idf analysis\", shape=\"box\", style=\"rounded\")\n",
    "dot.node(\"analysis5\", \"Thematic analysis\", shape=\"box\", style=\"rounded\")\n",
    "dot.node(\"analysis6\", \"Lexical and geographic analysis\", shape=\"box\", style=\"rounded\")\n",
    "dot.node(\"result4\", \"'Risk, Risk Perception, and Flooding'\", shape=\"box\", style=\"rounded\")"
   ]
  },
  {
   "cell_type": "code",
   "execution_count": 15,
   "metadata": {},
   "outputs": [
    {
     "ename": "SyntaxError",
     "evalue": "invalid syntax (<ipython-input-15-48ce3419b526>, line 5)",
     "output_type": "error",
     "traceback": [
      "\u001b[0;36m  File \u001b[0;32m\"<ipython-input-15-48ce3419b526>\"\u001b[0;36m, line \u001b[0;32m5\u001b[0m\n\u001b[0;31m    ('result1', 'filter1', label=\"filtering\"),\u001b[0m\n\u001b[0m                                ^\u001b[0m\n\u001b[0;31mSyntaxError\u001b[0m\u001b[0;31m:\u001b[0m invalid syntax\n"
     ]
    }
   ],
   "source": [
    "with dot.subgraph(name=\"cluster_search\") as sg:\n",
    "    sg.edges([\n",
    "        ('start', 'query1'),\n",
    "        ('query1', 'result1'),\n",
    "        ('result1', 'filter1'),\n",
    "        ('filter1', 'result2'),\n",
    "    ])\n",
    "    sg.attr(label='Phase I: Search')\n",
    "\n",
    "    \n",
    "with dot.subgraph(name=\"cluster_produce\") as sg:\n",
    "    sg.edges([\n",
    "        ('analysis1', 'analysis2'),\n",
    "        ('analysis2', 'corpus'),\n",
    "    ])\n",
    "    sg.attr(label='Phase II: Production of Corpus')\n",
    "    \n",
    "with dot.subgraph(name=\"cluster_analysis\") as sg:\n",
    "    sg.edges([\n",
    "        ('analysis3', 'analysis5'),\n",
    "        ('analysis4', 'analysis5'),\n",
    "        ('analysis5', 'result4'),\n",
    "        ('analysis6', 'analysis3'),\n",
    "    ])\n",
    "    sg.attr(label='Phase III: Analysis')"
   ]
  },
  {
   "cell_type": "code",
   "execution_count": 18,
   "metadata": {},
   "outputs": [
    {
     "data": {
      "text/plain": [
       "'workflow.png.pdf'"
      ]
     },
     "execution_count": 18,
     "metadata": {},
     "output_type": "execute_result"
    }
   ],
   "source": [
    "dot.render(\"workflow\", format=\"eps\")\n",
    "dot.render('workflow.png', view=True)"
   ]
  },
  {
   "cell_type": "code",
   "execution_count": null,
   "metadata": {},
   "outputs": [],
   "source": []
  }
 ],
 "metadata": {
  "kernelspec": {
   "display_name": "Python 3",
   "language": "python",
   "name": "python3"
  },
  "language_info": {
   "codemirror_mode": {
    "name": "ipython",
    "version": 3
   },
   "file_extension": ".py",
   "mimetype": "text/x-python",
   "name": "python",
   "nbconvert_exporter": "python",
   "pygments_lexer": "ipython3",
   "version": "3.7.6"
  }
 },
 "nbformat": 4,
 "nbformat_minor": 4
}
