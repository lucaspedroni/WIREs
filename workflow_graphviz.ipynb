{
 "cells": [
  {
   "cell_type": "code",
   "execution_count": 1,
   "metadata": {},
   "outputs": [],
   "source": [
    "from graphviz import Digraph, Graph"
   ]
  },
  {
   "cell_type": "code",
   "execution_count": 2,
   "metadata": {},
   "outputs": [],
   "source": [
    "dot = Digraph(\"Workflow\")"
   ]
  },
  {
   "cell_type": "code",
   "execution_count": 6,
   "metadata": {},
   "outputs": [],
   "source": [
    "dot.node(\"start\", \"Web of Science Search:\\n'climate change adaptation'\", shape=\"box\", style=\"rounded\")\n",
    "dot.node(\"result1\", \"Results (n=5,038)\", shape=\"box\", style=\"rounded\")\n",
    "dot.node(\"filter1\", \"Filtering:\\n'citizen engagement' AND\\n('public participation' OR\\n'public engagement')\", shape=\"box\", style=\"rounded\")\n",
    "dot.node(\"result2\", \"Filtered abstracts (n=484)\", shape=\"box\", style=\"rounded\")\n",
    "\n",
    "dot.node(\"analysis1\", \"Pandas import of abstracts\", shape=\"box\", style=\"rounded\")\n",
    "dot.node(\"analysis2\", \"Cleaning, stemming, lemmatization\", shape=\"box\", style=\"rounded\")\n",
    "dot.node(\"corpus\", \"Corpus\", shape=\"box\", style=\"rounded\")\n",
    "\n",
    "dot.node(\"analysis3\", \"Production of keywords, digrams, trigrams\", shape=\"box\", style=\"rounded\")\n",
    "dot.node(\"analysis4\", \"tf-idf analysis\", shape=\"box\", style=\"rounded\")\n",
    "dot.node(\"analysis5\", \"Thematic analysis\", shape=\"box\", style=\"rounded\")\n",
    "dot.node(\"analysis6\", \"Lexical and geographic analysis\", shape=\"box\", style=\"rounded\")\n",
    "dot.node(\"result4\", \"'Risk, Risk Perception, and Flooding'\", shape=\"box\", style=\"rounded\")"
   ]
  },
  {
   "cell_type": "code",
   "execution_count": 4,
   "metadata": {},
   "outputs": [],
   "source": [
    "with dot.subgraph(name=\"cluster_search\") as sg:\n",
    "    sg.edges([\n",
    "        ('start', 'result1'),\n",
    "        ('result1', 'filter1'),\n",
    "        ('filter1', 'result2'),\n",
    "    ])\n",
    "    sg.attr(label='Phase I: Search')\n",
    "\n",
    "    \n",
    "with dot.subgraph(name=\"cluster_produce\") as sg:\n",
    "    sg.edges([\n",
    "        ('analysis1', 'analysis2'),\n",
    "        ('analysis2', 'corpus'),\n",
    "    ])\n",
    "    sg.attr(label='Phase II: Production of Corpus')\n",
    "    \n",
    "with dot.subgraph(name=\"cluster_analysis\") as sg:\n",
    "    sg.edges([\n",
    "        ('analysis3', 'analysis5'),\n",
    "        ('analysis4', 'analysis5'),\n",
    "        ('analysis5', 'result4'),\n",
    "        ('analysis6', 'analysis3'),\n",
    "    ])\n",
    "    sg.attr(label='Phase III: Corpus Analysis')"
   ]
  },
  {
   "cell_type": "code",
   "execution_count": 7,
   "metadata": {},
   "outputs": [
    {
     "data": {
      "text/plain": [
       "'workflow.png.pdf'"
      ]
     },
     "execution_count": 7,
     "metadata": {},
     "output_type": "execute_result"
    }
   ],
   "source": [
    "dot.render(\"workflow\", format=\"eps\")\n",
    "dot.render('workflow.png', view=True)"
   ]
  },
  {
   "cell_type": "code",
   "execution_count": 8,
   "metadata": {},
   "outputs": [
    {
     "name": "stdout",
     "output_type": "stream",
     "text": [
      "digraph Workflow {\n",
      "\tstart [label=\"Web of Science Search:\n",
      "''climate change adaptation'\" shape=box style=rounded]\n",
      "\tresult1 [label=\"Results (n=5,038)\" shape=box style=rounded]\n",
      "\tfilter1 [label=\"Filtering:\n",
      "'citizen engagement' AND\n",
      "('public participation' OR\n",
      "'public engagement')\" shape=box style=rounded]\n",
      "\tresult2 [label=\"Filtered abstracts (n=484)\" shape=box style=rounded]\n",
      "\tanalysis1 [label=\"Pandas import of abstracts\" shape=box style=rounded]\n",
      "\tanalysis2 [label=\"Cleaning, stemming, lemmatization\" shape=box style=rounded]\n",
      "\tcorpus [label=Corpus shape=box style=rounded]\n",
      "\tanalysis3 [label=\"Production of keywords, digrams, trigrams\" shape=box style=rounded]\n",
      "\tanalysis4 [label=\"tf-idf analysis\" shape=box style=rounded]\n",
      "\tanalysis5 [label=\"Thematic analysis\" shape=box style=rounded]\n",
      "\tanalysis6 [label=\"Lexical and geographic analysis\" shape=box style=rounded]\n",
      "\tresult4 [label=\"'Risk, Risk Perception, and Flooding'\" shape=box style=rounded]\n",
      "\tsubgraph cluster_search {\n",
      "\t\tstart -> result1\n",
      "\t\tresult1 -> filter1\n",
      "\t\tfilter1 -> result2\n",
      "\t\tlabel=\"Phase I: Search\"\n",
      "\t}\n",
      "\tsubgraph cluster_produce {\n",
      "\t\tanalysis1 -> analysis2\n",
      "\t\tanalysis2 -> corpus\n",
      "\t\tlabel=\"Phase II: Production of Corpus\"\n",
      "\t}\n",
      "\tsubgraph cluster_analysis {\n",
      "\t\tanalysis3 -> analysis5\n",
      "\t\tanalysis4 -> analysis5\n",
      "\t\tanalysis5 -> result4\n",
      "\t\tanalysis6 -> analysis3\n",
      "\t\tlabel=\"Phase III: Corpus Analysis\"\n",
      "\t}\n",
      "\tstart [label=\"Web of Science Search:\n",
      "'climate change adaptation'\" shape=box style=rounded]\n",
      "\tresult1 [label=\"Results (n=5,038)\" shape=box style=rounded]\n",
      "\tfilter1 [label=\"Filtering:\n",
      "'citizen engagement' AND\n",
      "('public participation' OR\n",
      "'public engagement')\" shape=box style=rounded]\n",
      "\tresult2 [label=\"Filtered abstracts (n=484)\" shape=box style=rounded]\n",
      "\tanalysis1 [label=\"Pandas import of abstracts\" shape=box style=rounded]\n",
      "\tanalysis2 [label=\"Cleaning, stemming, lemmatization\" shape=box style=rounded]\n",
      "\tcorpus [label=Corpus shape=box style=rounded]\n",
      "\tanalysis3 [label=\"Production of keywords, digrams, trigrams\" shape=box style=rounded]\n",
      "\tanalysis4 [label=\"tf-idf analysis\" shape=box style=rounded]\n",
      "\tanalysis5 [label=\"Thematic analysis\" shape=box style=rounded]\n",
      "\tanalysis6 [label=\"Lexical and geographic analysis\" shape=box style=rounded]\n",
      "\tresult4 [label=\"'Risk, Risk Perception, and Flooding'\" shape=box style=rounded]\n",
      "}\n"
     ]
    }
   ],
   "source": [
    "print(dot)"
   ]
  },
  {
   "cell_type": "code",
   "execution_count": null,
   "metadata": {},
   "outputs": [],
   "source": []
  }
 ],
 "metadata": {
  "kernelspec": {
   "display_name": "Python 3",
   "language": "python",
   "name": "python3"
  },
  "language_info": {
   "codemirror_mode": {
    "name": "ipython",
    "version": 3
   },
   "file_extension": ".py",
   "mimetype": "text/x-python",
   "name": "python",
   "nbconvert_exporter": "python",
   "pygments_lexer": "ipython3",
   "version": "3.7.6"
  }
 },
 "nbformat": 4,
 "nbformat_minor": 4
}
